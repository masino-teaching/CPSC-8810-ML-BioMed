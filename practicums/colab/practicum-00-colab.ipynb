{
  "nbformat": 4,
  "nbformat_minor": 0,
  "metadata": {
    "colab": {
      "provenance": []
    },
    "kernelspec": {
      "name": "python3",
      "display_name": "Python 3"
    },
    "language_info": {
      "name": "python"
    }
  },
  "cells": [
    {
      "cell_type": "markdown",
      "source": [
        "CPSC 8810 Machine Learning for Biomedical Applications\n",
        "# Practicum 00 - Setting up and testing Python"
      ],
      "metadata": {
        "id": "ZemE8aDVQf20"
      }
    },
    {
      "cell_type": "markdown",
      "source": [
        "__Task 1__\n",
        "\n",
        "Read *Assignment-Resources-Colab-git.pdf* in Canvas under *Files->Assignment resources* which provides details on using Google Colab."
      ],
      "metadata": {
        "id": "lhLq33QjQrAr"
      }
    },
    {
      "cell_type": "markdown",
      "source": [
        "__Task 2__\n",
        "\n",
        "Edit this cell by adding text detailing your learning objectives for this course."
      ],
      "metadata": {
        "id": "3MxflcUk0oII"
      }
    },
    {
      "cell_type": "markdown",
      "source": [
        "__Task 3__\n",
        "\n",
        "Add the course code repository to your Google Drive in the *My Drive/Colab Notebooks* directory (this should have been created when you started first use Google Colab). The assignment repository can by cloning the _gitlab repository_ as described in the file *Assignment-Resources-Colab-git.pdf*."
      ],
      "metadata": {
        "id": "1AMpSH-GRi-p"
      }
    },
    {
      "cell_type": "markdown",
      "source": [
        "__Task 4__\n",
        "\n",
        "Execute the code cell below to connect this notebook to your Google Drive."
      ],
      "metadata": {
        "id": "TEu4gahhROEp"
      }
    },
    {
      "cell_type": "code",
      "execution_count": null,
      "metadata": {
        "id": "ZJ9cGlJmQNV5"
      },
      "outputs": [],
      "source": [
        "# mount the google drive - this is necessary to access supporting src\n",
        "from google.colab import drive\n",
        "drive.mount(\"/content/drive\")"
      ]
    },
    {
      "cell_type": "markdown",
      "source": [
        "__Task 5__\n",
        "\n",
        "Execute the code cell below to test that connecting to your Google Drive was successful. If successful, the cell output will be of the form:\n",
        "`Hello, YOUR_NAME. Your Colab connection was successful!`"
      ],
      "metadata": {
        "id": "2A3Y7g9YUwnl"
      }
    },
    {
      "cell_type": "code",
      "source": [
        "import sys\n",
        "sys.path.append(\"/content/drive/MyDrive/Colab Notebooks/bmin5200-2023/src\")\n",
        "from util import test_colab_connection\n",
        "\n",
        "YOUR_NAME = \"ADD YOUR NAME HERE\"\n",
        "test_colab_connection(YOUR_NAME)"
      ],
      "metadata": {
        "id": "EC-sSOWxeJrn"
      },
      "execution_count": null,
      "outputs": []
    },
    {
      "cell_type": "markdown",
      "source": [
        "__Task 6__\n",
        "\n",
        "In the code cell below, write Python code that will:\n",
        "\n",
        "- Print the object 'myText'\n",
        "- Print the index to the letter 'W'\n",
        "- Print only the word 'Hello' in myText\n",
        "- Print myText in reverse order (i.e. yielding 'dlroW olleH')"
      ],
      "metadata": {
        "id": "nNg5khurWsla"
      }
    },
    {
      "cell_type": "code",
      "source": [
        "myText = 'Hello World!'"
      ],
      "metadata": {
        "id": "L7Of4RaOVZib"
      },
      "execution_count": null,
      "outputs": []
    },
    {
      "cell_type": "markdown",
      "source": [
        "__Task 7__\n",
        "\n",
        "In the code cell below:\n",
        "\n",
        "- Write Python function called 'sum_three' that takes three arguments and returns zero if the arguments are all equal and their sum otherwise\n",
        "- Print the output of this function in the following four scenarios (2,1,2), (3,2,2), (2,2,2), (1,2,3)"
      ],
      "metadata": {
        "id": "LQI-ZiRFXBVe"
      }
    },
    {
      "cell_type": "code",
      "source": [
        "# def sum_three"
      ],
      "metadata": {
        "id": "74dCCKE7W_qR"
      },
      "execution_count": null,
      "outputs": []
    },
    {
      "cell_type": "markdown",
      "source": [
        "__Task 8__\n",
        "\n",
        "In the code cell below:\n",
        " - Add items [7, 8, 9] to the list `l` using the extend method\n",
        " - Sort the list in descending order and print it\n",
        " - Pop an item from the list and print it\n",
        " - Print the remainder of the list in reverse order"
      ],
      "metadata": {
        "id": "bLf0mvJ7XuxH"
      }
    },
    {
      "cell_type": "code",
      "source": [
        "l = [1, 5, 6, 3, 4, 2]"
      ],
      "metadata": {
        "id": "-lwkxihOYWKI"
      },
      "execution_count": null,
      "outputs": []
    },
    {
      "cell_type": "markdown",
      "source": [
        "__Task 9__\n",
        "\n",
        "In the code cell below, sum the `3 X 2` numpy array, `x`, separately along each axis and print the two results."
      ],
      "metadata": {
        "id": "kJcLJKBTYw8a"
      }
    },
    {
      "cell_type": "code",
      "source": [
        "import numpy as np\n",
        "\n",
        "x = np.array([[1, 100], [2, 200], [3, 300]])"
      ],
      "metadata": {
        "id": "4o3hyXKSYlet"
      },
      "execution_count": null,
      "outputs": []
    },
    {
      "cell_type": "code",
      "source": [],
      "metadata": {
        "id": "Gi_1zVE-ZM-U"
      },
      "execution_count": null,
      "outputs": []
    }
  ]
}